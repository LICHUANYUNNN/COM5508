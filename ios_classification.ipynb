{
 "cells": [
  {
   "cell_type": "code",
   "execution_count": 1,
   "metadata": {},
   "outputs": [],
   "source": [
    "import numpy as np\n",
    "import pandas as pd\n",
    "import warnings; warnings.filterwarnings('ignore')\n",
    "\n",
    "# Read data from file\n",
    "df = pd.read_csv('AppleStore.csv', encoding = 'utf8',index_col=0)"
   ]
  },
  {
   "cell_type": "markdown",
   "metadata": {},
   "source": [
    "# Data cleaning"
   ]
  },
  {
   "cell_type": "code",
   "execution_count": 2,
   "metadata": {},
   "outputs": [],
   "source": [
    "# iOS\n",
    "# 移除 评分为0的项目 空值 重复项\n",
    "df = df.dropna()\n",
    "df = df.drop_duplicates()\n",
    "df = df[df['user_rating']!=0]"
   ]
  },
  {
   "cell_type": "code",
   "execution_count": 3,
   "metadata": {},
   "outputs": [],
   "source": [
    "df = df.set_index('track_name')"
   ]
  },
  {
   "cell_type": "code",
   "execution_count": 4,
   "metadata": {
    "scrolled": true
   },
   "outputs": [
    {
     "data": {
      "text/html": [
       "<div>\n",
       "<style scoped>\n",
       "    .dataframe tbody tr th:only-of-type {\n",
       "        vertical-align: middle;\n",
       "    }\n",
       "\n",
       "    .dataframe tbody tr th {\n",
       "        vertical-align: top;\n",
       "    }\n",
       "\n",
       "    .dataframe thead th {\n",
       "        text-align: right;\n",
       "    }\n",
       "</style>\n",
       "<table border=\"1\" class=\"dataframe\">\n",
       "  <thead>\n",
       "    <tr style=\"text-align: right;\">\n",
       "      <th></th>\n",
       "      <th>id</th>\n",
       "      <th>size_bytes</th>\n",
       "      <th>currency</th>\n",
       "      <th>price</th>\n",
       "      <th>rating_count_tot</th>\n",
       "      <th>rating_count_ver</th>\n",
       "      <th>user_rating</th>\n",
       "      <th>user_rating_ver</th>\n",
       "      <th>ver</th>\n",
       "      <th>cont_rating</th>\n",
       "      <th>prime_genre</th>\n",
       "      <th>sup_devices.num</th>\n",
       "      <th>ipadSc_urls.num</th>\n",
       "      <th>lang.num</th>\n",
       "      <th>vpp_lic</th>\n",
       "    </tr>\n",
       "    <tr>\n",
       "      <th>track_name</th>\n",
       "      <th></th>\n",
       "      <th></th>\n",
       "      <th></th>\n",
       "      <th></th>\n",
       "      <th></th>\n",
       "      <th></th>\n",
       "      <th></th>\n",
       "      <th></th>\n",
       "      <th></th>\n",
       "      <th></th>\n",
       "      <th></th>\n",
       "      <th></th>\n",
       "      <th></th>\n",
       "      <th></th>\n",
       "      <th></th>\n",
       "    </tr>\n",
       "  </thead>\n",
       "  <tbody>\n",
       "    <tr>\n",
       "      <th>PAC-MAN Premium</th>\n",
       "      <td>281656475</td>\n",
       "      <td>100788224</td>\n",
       "      <td>USD</td>\n",
       "      <td>3.99</td>\n",
       "      <td>21292</td>\n",
       "      <td>26</td>\n",
       "      <td>4.0</td>\n",
       "      <td>4.5</td>\n",
       "      <td>6.3.5</td>\n",
       "      <td>4+</td>\n",
       "      <td>Games</td>\n",
       "      <td>38</td>\n",
       "      <td>5</td>\n",
       "      <td>10</td>\n",
       "      <td>1</td>\n",
       "    </tr>\n",
       "    <tr>\n",
       "      <th>Evernote - stay organized</th>\n",
       "      <td>281796108</td>\n",
       "      <td>158578688</td>\n",
       "      <td>USD</td>\n",
       "      <td>0.00</td>\n",
       "      <td>161065</td>\n",
       "      <td>26</td>\n",
       "      <td>4.0</td>\n",
       "      <td>3.5</td>\n",
       "      <td>8.2.2</td>\n",
       "      <td>4+</td>\n",
       "      <td>Productivity</td>\n",
       "      <td>37</td>\n",
       "      <td>5</td>\n",
       "      <td>23</td>\n",
       "      <td>1</td>\n",
       "    </tr>\n",
       "    <tr>\n",
       "      <th>WeatherBug - Local Weather, Radar, Maps, Alerts</th>\n",
       "      <td>281940292</td>\n",
       "      <td>100524032</td>\n",
       "      <td>USD</td>\n",
       "      <td>0.00</td>\n",
       "      <td>188583</td>\n",
       "      <td>2822</td>\n",
       "      <td>3.5</td>\n",
       "      <td>4.5</td>\n",
       "      <td>5.0.0</td>\n",
       "      <td>4+</td>\n",
       "      <td>Weather</td>\n",
       "      <td>37</td>\n",
       "      <td>5</td>\n",
       "      <td>3</td>\n",
       "      <td>1</td>\n",
       "    </tr>\n",
       "  </tbody>\n",
       "</table>\n",
       "</div>"
      ],
      "text/plain": [
       "                                                        id  size_bytes  \\\n",
       "track_name                                                               \n",
       "PAC-MAN Premium                                  281656475   100788224   \n",
       "Evernote - stay organized                        281796108   158578688   \n",
       "WeatherBug - Local Weather, Radar, Maps, Alerts  281940292   100524032   \n",
       "\n",
       "                                                currency  price  \\\n",
       "track_name                                                        \n",
       "PAC-MAN Premium                                      USD   3.99   \n",
       "Evernote - stay organized                            USD   0.00   \n",
       "WeatherBug - Local Weather, Radar, Maps, Alerts      USD   0.00   \n",
       "\n",
       "                                                 rating_count_tot  \\\n",
       "track_name                                                          \n",
       "PAC-MAN Premium                                             21292   \n",
       "Evernote - stay organized                                  161065   \n",
       "WeatherBug - Local Weather, Radar, Maps, Alerts            188583   \n",
       "\n",
       "                                                 rating_count_ver  \\\n",
       "track_name                                                          \n",
       "PAC-MAN Premium                                                26   \n",
       "Evernote - stay organized                                      26   \n",
       "WeatherBug - Local Weather, Radar, Maps, Alerts              2822   \n",
       "\n",
       "                                                 user_rating  user_rating_ver  \\\n",
       "track_name                                                                      \n",
       "PAC-MAN Premium                                          4.0              4.5   \n",
       "Evernote - stay organized                                4.0              3.5   \n",
       "WeatherBug - Local Weather, Radar, Maps, Alerts          3.5              4.5   \n",
       "\n",
       "                                                   ver cont_rating  \\\n",
       "track_name                                                           \n",
       "PAC-MAN Premium                                  6.3.5          4+   \n",
       "Evernote - stay organized                        8.2.2          4+   \n",
       "WeatherBug - Local Weather, Radar, Maps, Alerts  5.0.0          4+   \n",
       "\n",
       "                                                  prime_genre  \\\n",
       "track_name                                                      \n",
       "PAC-MAN Premium                                         Games   \n",
       "Evernote - stay organized                        Productivity   \n",
       "WeatherBug - Local Weather, Radar, Maps, Alerts       Weather   \n",
       "\n",
       "                                                 sup_devices.num  \\\n",
       "track_name                                                         \n",
       "PAC-MAN Premium                                               38   \n",
       "Evernote - stay organized                                     37   \n",
       "WeatherBug - Local Weather, Radar, Maps, Alerts               37   \n",
       "\n",
       "                                                 ipadSc_urls.num  lang.num  \\\n",
       "track_name                                                                   \n",
       "PAC-MAN Premium                                                5        10   \n",
       "Evernote - stay organized                                      5        23   \n",
       "WeatherBug - Local Weather, Radar, Maps, Alerts                5         3   \n",
       "\n",
       "                                                 vpp_lic  \n",
       "track_name                                                \n",
       "PAC-MAN Premium                                        1  \n",
       "Evernote - stay organized                              1  \n",
       "WeatherBug - Local Weather, Radar, Maps, Alerts        1  "
      ]
     },
     "execution_count": 4,
     "metadata": {},
     "output_type": "execute_result"
    }
   ],
   "source": [
    "df.head(3)"
   ]
  },
  {
   "cell_type": "markdown",
   "metadata": {},
   "source": [
    "# Dummy coding"
   ]
  },
  {
   "cell_type": "code",
   "execution_count": 5,
   "metadata": {},
   "outputs": [],
   "source": [
    "# select numerical features\n",
    "features = ['rating_count_tot','price','size_bytes','sup_devices.num','ipadSc_urls.num','lang.num'] #"
   ]
  },
  {
   "cell_type": "code",
   "execution_count": 6,
   "metadata": {},
   "outputs": [],
   "source": [
    "# select categorical features\n",
    "category_list = df['prime_genre'].unique().tolist() \n",
    "category_list = ['cat_' + word for word in category_list]\n",
    "df = pd.concat([df, pd.get_dummies(df['prime_genre'], prefix='cat')], axis=1) # drop_first=True\n",
    "features.extend(category_list)"
   ]
  },
  {
   "cell_type": "code",
   "execution_count": 7,
   "metadata": {},
   "outputs": [],
   "source": [
    "# bin dependent variables - median 4.5\n",
    "dv = df['user_rating']\n",
    "bins = [0,4.5,5.1]; bin_labels = [1,2]\n",
    "dv_binned = pd.cut(dv, bins, right = False, labels = bin_labels)\n",
    "df['user_rating_binned'] = dv_binned"
   ]
  },
  {
   "cell_type": "code",
   "execution_count": 8,
   "metadata": {},
   "outputs": [
    {
     "name": "stdout",
     "output_type": "stream",
     "text": [
      "Original group ratio:\n",
      "2    0.50335\n",
      "1    0.49665\n",
      "Name: user_rating_binned, dtype: float64\n"
     ]
    }
   ],
   "source": [
    "# unsuccessful: 0-4.4   successful: 4.5-5.0\n",
    "print('Original group ratio:')\n",
    "print(df['user_rating_binned'].value_counts() / len(df['user_rating_binned']))"
   ]
  },
  {
   "cell_type": "markdown",
   "metadata": {},
   "source": [
    "# Classification Model (10-fold validation)"
   ]
  },
  {
   "cell_type": "code",
   "execution_count": 9,
   "metadata": {},
   "outputs": [
    {
     "data": {
      "text/html": [
       "<div>\n",
       "<style scoped>\n",
       "    .dataframe tbody tr th:only-of-type {\n",
       "        vertical-align: middle;\n",
       "    }\n",
       "\n",
       "    .dataframe tbody tr th {\n",
       "        vertical-align: top;\n",
       "    }\n",
       "\n",
       "    .dataframe thead th {\n",
       "        text-align: right;\n",
       "    }\n",
       "</style>\n",
       "<table border=\"1\" class=\"dataframe\">\n",
       "  <thead>\n",
       "    <tr style=\"text-align: right;\">\n",
       "      <th></th>\n",
       "      <th>rating_count_tot</th>\n",
       "      <th>price</th>\n",
       "      <th>size_bytes</th>\n",
       "      <th>sup_devices.num</th>\n",
       "      <th>ipadSc_urls.num</th>\n",
       "      <th>lang.num</th>\n",
       "      <th>cat_Games</th>\n",
       "      <th>cat_Productivity</th>\n",
       "      <th>cat_Weather</th>\n",
       "      <th>cat_Shopping</th>\n",
       "      <th>...</th>\n",
       "      <th>cat_Entertainment</th>\n",
       "      <th>cat_Photo &amp; Video</th>\n",
       "      <th>cat_Navigation</th>\n",
       "      <th>cat_Education</th>\n",
       "      <th>cat_Lifestyle</th>\n",
       "      <th>cat_Food &amp; Drink</th>\n",
       "      <th>cat_News</th>\n",
       "      <th>cat_Book</th>\n",
       "      <th>cat_Medical</th>\n",
       "      <th>cat_Catalogs</th>\n",
       "    </tr>\n",
       "    <tr>\n",
       "      <th>track_name</th>\n",
       "      <th></th>\n",
       "      <th></th>\n",
       "      <th></th>\n",
       "      <th></th>\n",
       "      <th></th>\n",
       "      <th></th>\n",
       "      <th></th>\n",
       "      <th></th>\n",
       "      <th></th>\n",
       "      <th></th>\n",
       "      <th></th>\n",
       "      <th></th>\n",
       "      <th></th>\n",
       "      <th></th>\n",
       "      <th></th>\n",
       "      <th></th>\n",
       "      <th></th>\n",
       "      <th></th>\n",
       "      <th></th>\n",
       "      <th></th>\n",
       "      <th></th>\n",
       "    </tr>\n",
       "  </thead>\n",
       "  <tbody>\n",
       "    <tr>\n",
       "      <th>PAC-MAN Premium</th>\n",
       "      <td>21292</td>\n",
       "      <td>3.99</td>\n",
       "      <td>100788224</td>\n",
       "      <td>38</td>\n",
       "      <td>5</td>\n",
       "      <td>10</td>\n",
       "      <td>1</td>\n",
       "      <td>0</td>\n",
       "      <td>0</td>\n",
       "      <td>0</td>\n",
       "      <td>...</td>\n",
       "      <td>0</td>\n",
       "      <td>0</td>\n",
       "      <td>0</td>\n",
       "      <td>0</td>\n",
       "      <td>0</td>\n",
       "      <td>0</td>\n",
       "      <td>0</td>\n",
       "      <td>0</td>\n",
       "      <td>0</td>\n",
       "      <td>0</td>\n",
       "    </tr>\n",
       "    <tr>\n",
       "      <th>Evernote - stay organized</th>\n",
       "      <td>161065</td>\n",
       "      <td>0.00</td>\n",
       "      <td>158578688</td>\n",
       "      <td>37</td>\n",
       "      <td>5</td>\n",
       "      <td>23</td>\n",
       "      <td>0</td>\n",
       "      <td>1</td>\n",
       "      <td>0</td>\n",
       "      <td>0</td>\n",
       "      <td>...</td>\n",
       "      <td>0</td>\n",
       "      <td>0</td>\n",
       "      <td>0</td>\n",
       "      <td>0</td>\n",
       "      <td>0</td>\n",
       "      <td>0</td>\n",
       "      <td>0</td>\n",
       "      <td>0</td>\n",
       "      <td>0</td>\n",
       "      <td>0</td>\n",
       "    </tr>\n",
       "    <tr>\n",
       "      <th>WeatherBug - Local Weather, Radar, Maps, Alerts</th>\n",
       "      <td>188583</td>\n",
       "      <td>0.00</td>\n",
       "      <td>100524032</td>\n",
       "      <td>37</td>\n",
       "      <td>5</td>\n",
       "      <td>3</td>\n",
       "      <td>0</td>\n",
       "      <td>0</td>\n",
       "      <td>1</td>\n",
       "      <td>0</td>\n",
       "      <td>...</td>\n",
       "      <td>0</td>\n",
       "      <td>0</td>\n",
       "      <td>0</td>\n",
       "      <td>0</td>\n",
       "      <td>0</td>\n",
       "      <td>0</td>\n",
       "      <td>0</td>\n",
       "      <td>0</td>\n",
       "      <td>0</td>\n",
       "      <td>0</td>\n",
       "    </tr>\n",
       "  </tbody>\n",
       "</table>\n",
       "<p>3 rows × 29 columns</p>\n",
       "</div>"
      ],
      "text/plain": [
       "                                                 rating_count_tot  price  \\\n",
       "track_name                                                                 \n",
       "PAC-MAN Premium                                             21292   3.99   \n",
       "Evernote - stay organized                                  161065   0.00   \n",
       "WeatherBug - Local Weather, Radar, Maps, Alerts            188583   0.00   \n",
       "\n",
       "                                                 size_bytes  sup_devices.num  \\\n",
       "track_name                                                                     \n",
       "PAC-MAN Premium                                   100788224               38   \n",
       "Evernote - stay organized                         158578688               37   \n",
       "WeatherBug - Local Weather, Radar, Maps, Alerts   100524032               37   \n",
       "\n",
       "                                                 ipadSc_urls.num  lang.num  \\\n",
       "track_name                                                                   \n",
       "PAC-MAN Premium                                                5        10   \n",
       "Evernote - stay organized                                      5        23   \n",
       "WeatherBug - Local Weather, Radar, Maps, Alerts                5         3   \n",
       "\n",
       "                                                 cat_Games  cat_Productivity  \\\n",
       "track_name                                                                     \n",
       "PAC-MAN Premium                                          1                 0   \n",
       "Evernote - stay organized                                0                 1   \n",
       "WeatherBug - Local Weather, Radar, Maps, Alerts          0                 0   \n",
       "\n",
       "                                                 cat_Weather  cat_Shopping  \\\n",
       "track_name                                                                   \n",
       "PAC-MAN Premium                                            0             0   \n",
       "Evernote - stay organized                                  0             0   \n",
       "WeatherBug - Local Weather, Radar, Maps, Alerts            1             0   \n",
       "\n",
       "                                                     ...       \\\n",
       "track_name                                           ...        \n",
       "PAC-MAN Premium                                      ...        \n",
       "Evernote - stay organized                            ...        \n",
       "WeatherBug - Local Weather, Radar, Maps, Alerts      ...        \n",
       "\n",
       "                                                 cat_Entertainment  \\\n",
       "track_name                                                           \n",
       "PAC-MAN Premium                                                  0   \n",
       "Evernote - stay organized                                        0   \n",
       "WeatherBug - Local Weather, Radar, Maps, Alerts                  0   \n",
       "\n",
       "                                                 cat_Photo & Video  \\\n",
       "track_name                                                           \n",
       "PAC-MAN Premium                                                  0   \n",
       "Evernote - stay organized                                        0   \n",
       "WeatherBug - Local Weather, Radar, Maps, Alerts                  0   \n",
       "\n",
       "                                                 cat_Navigation  \\\n",
       "track_name                                                        \n",
       "PAC-MAN Premium                                               0   \n",
       "Evernote - stay organized                                     0   \n",
       "WeatherBug - Local Weather, Radar, Maps, Alerts               0   \n",
       "\n",
       "                                                 cat_Education  cat_Lifestyle  \\\n",
       "track_name                                                                      \n",
       "PAC-MAN Premium                                              0              0   \n",
       "Evernote - stay organized                                    0              0   \n",
       "WeatherBug - Local Weather, Radar, Maps, Alerts              0              0   \n",
       "\n",
       "                                                 cat_Food & Drink  cat_News  \\\n",
       "track_name                                                                    \n",
       "PAC-MAN Premium                                                 0         0   \n",
       "Evernote - stay organized                                       0         0   \n",
       "WeatherBug - Local Weather, Radar, Maps, Alerts                 0         0   \n",
       "\n",
       "                                                 cat_Book  cat_Medical  \\\n",
       "track_name                                                               \n",
       "PAC-MAN Premium                                         0            0   \n",
       "Evernote - stay organized                               0            0   \n",
       "WeatherBug - Local Weather, Radar, Maps, Alerts         0            0   \n",
       "\n",
       "                                                 cat_Catalogs  \n",
       "track_name                                                     \n",
       "PAC-MAN Premium                                             0  \n",
       "Evernote - stay organized                                   0  \n",
       "WeatherBug - Local Weather, Radar, Maps, Alerts             0  \n",
       "\n",
       "[3 rows x 29 columns]"
      ]
     },
     "execution_count": 9,
     "metadata": {},
     "output_type": "execute_result"
    }
   ],
   "source": [
    "df_clean = df[features]\n",
    "df_clean.head(3)"
   ]
  },
  {
   "cell_type": "code",
   "execution_count": 10,
   "metadata": {},
   "outputs": [],
   "source": [
    "# define x and y as input\n",
    "X = df_clean\n",
    "y = np.array(df['user_rating_binned'])"
   ]
  },
  {
   "cell_type": "code",
   "execution_count": 11,
   "metadata": {},
   "outputs": [
    {
     "name": "stdout",
     "output_type": "stream",
     "text": [
      "0.5327200985985483\n"
     ]
    }
   ],
   "source": [
    "from sklearn.model_selection import cross_val_score\n",
    "from sklearn.linear_model import LogisticRegression\n",
    "\n",
    "clf = LogisticRegression(multi_class='ovr', solver='lbfgs')\n",
    "\n",
    "print(np.mean(cross_val_score(clf, X, y, cv=10)))"
   ]
  },
  {
   "cell_type": "code",
   "execution_count": 12,
   "metadata": {},
   "outputs": [
    {
     "name": "stdout",
     "output_type": "stream",
     "text": [
      "0.6445556405457239\n"
     ]
    }
   ],
   "source": [
    "from lightgbm import LGBMClassifier\n",
    "\n",
    "clf = LGBMClassifier()\n",
    "\n",
    "print(np.mean(cross_val_score(clf, X, y, cv=10)))"
   ]
  },
  {
   "cell_type": "code",
   "execution_count": 13,
   "metadata": {},
   "outputs": [
    {
     "name": "stdout",
     "output_type": "stream",
     "text": [
      "0.6440761452406247\n"
     ]
    }
   ],
   "source": [
    "from xgboost import XGBClassifier\n",
    "\n",
    "clf = XGBClassifier()\n",
    "\n",
    "print(np.mean(cross_val_score(clf, X, y, cv=10)))"
   ]
  },
  {
   "cell_type": "code",
   "execution_count": 14,
   "metadata": {},
   "outputs": [
    {
     "name": "stdout",
     "output_type": "stream",
     "text": [
      "0.6169364019955337\n"
     ]
    }
   ],
   "source": [
    "from sklearn.ensemble import RandomForestClassifier\n",
    "\n",
    "clf = RandomForestClassifier(criterion='entropy')\n",
    "\n",
    "print(np.mean(cross_val_score(clf, X, y, cv=10)))"
   ]
  },
  {
   "cell_type": "markdown",
   "metadata": {},
   "source": [
    "# LGBMClassifier (train vs.test)"
   ]
  },
  {
   "cell_type": "code",
   "execution_count": 15,
   "metadata": {},
   "outputs": [],
   "source": [
    "from sklearn.model_selection import train_test_split\n",
    "X_train, X_test, y_train, y_test = train_test_split(X, y, test_size = 0.2, random_state = 10)"
   ]
  },
  {
   "cell_type": "code",
   "execution_count": 16,
   "metadata": {},
   "outputs": [
    {
     "name": "stdout",
     "output_type": "stream",
     "text": [
      "0.8049461507778221\n"
     ]
    }
   ],
   "source": [
    "clf = LGBMClassifier()\n",
    "clf.fit(X_train, y_train) \n",
    "print(clf.score(X_train,y_train))"
   ]
  },
  {
   "cell_type": "code",
   "execution_count": 17,
   "metadata": {},
   "outputs": [
    {
     "name": "stdout",
     "output_type": "stream",
     "text": [
      "0.6706539074960127\n"
     ]
    }
   ],
   "source": [
    "print(clf.score(X_test,y_test))"
   ]
  },
  {
   "cell_type": "markdown",
   "metadata": {
    "scrolled": true
   },
   "source": [
    "### from math import log\n",
    "rating_count = float(input('How many people have rated the app?   '))\n",
    "price = float(input('What is the price of the app? (USD)   '))\n",
    "size = float(input('What is the size of the app? (kb)   '))\n",
    "category = input('What is the category of the app?   ')\n",
    "\n",
    "inputs = []\n",
    "aaa = {}\n",
    "aaa['rating_count_tot_log'] = log(rating_count+1)\n",
    "aaa['price_log'] = log(price+1)\n",
    "aaa['size_log'] = log(size+1)\n",
    "inputs.append(aaa)\n",
    "testx = pd.DataFrame(inputs)\n",
    "\n",
    "for i in category_list:\n",
    "    if 'cat_'+category == i:\n",
    "        testx[i] = 1\n",
    "    else:\n",
    "        testx[i] = 0"
   ]
  },
  {
   "cell_type": "markdown",
   "metadata": {},
   "source": [
    "### testx"
   ]
  },
  {
   "cell_type": "markdown",
   "metadata": {},
   "source": [
    "### aaa = clf.predict(testx)\n",
    "if aaa[0]==2:\n",
    "    print('Successful!')\n",
    "else:\n",
    "    print('Unsuccessful:(')"
   ]
  },
  {
   "cell_type": "code",
   "execution_count": null,
   "metadata": {},
   "outputs": [],
   "source": []
  }
 ],
 "metadata": {
  "kernelspec": {
   "display_name": "Python 3",
   "language": "python",
   "name": "python3"
  },
  "language_info": {
   "codemirror_mode": {
    "name": "ipython",
    "version": 3
   },
   "file_extension": ".py",
   "mimetype": "text/x-python",
   "name": "python",
   "nbconvert_exporter": "python",
   "pygments_lexer": "ipython3",
   "version": "3.7.1"
  }
 },
 "nbformat": 4,
 "nbformat_minor": 2
}
